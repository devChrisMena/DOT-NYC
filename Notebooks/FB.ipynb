{
 "cells": [
  {
   "cell_type": "code",
   "execution_count": 2,
   "metadata": {},
   "outputs": [],
   "source": [
    "import facebook_page_scraper"
   ]
  },
  {
   "cell_type": "code",
   "execution_count": 5,
   "metadata": {},
   "outputs": [],
   "source": [
    "page_name = \"metaai\"\n",
    "posts_count = 10\n",
    "browser = \"chrome\"\n",
    "proxy = \"IP:PORT\" #if proxy requires authentication then user:password@IP:PORT\n",
    "timeout = 600 #600 seconds\n",
    "meta_ai = facebook_page_scraper.Facebook_scraper(page_name,posts_count,browser,proxy=proxy,timeout=timeout)"
   ]
  },
  {
   "cell_type": "code",
   "execution_count": 7,
   "metadata": {},
   "outputs": [
    {
     "name": "stderr",
     "output_type": "stream",
     "text": [
      "[WDM] - Current google-chrome version is 101.0.4951\n",
      "[WDM] - Get LATEST driver version for 101.0.4951\n",
      "[WDM] - Driver [C:\\Users\\chris\\.wdm\\drivers\\chromedriver\\win32\\101.0.4951.41\\chromedriver.exe] found in cache\n"
     ]
    },
    {
     "name": "stdout",
     "output_type": "stream",
     "text": [
      "Using: IP:PORT\n",
      " \n"
     ]
    },
    {
     "data": {
      "text/plain": [
       "True"
      ]
     },
     "execution_count": 7,
     "metadata": {},
     "output_type": "execute_result"
    }
   ],
   "source": [
    "filename = \"data_file\"  #file name without CSV extension,where data will be saved\n",
    "directory = \"E:\" #directory where CSV file will be saved\n",
    "meta_ai.scrap_to_csv(filename,directory)"
   ]
  }
 ],
 "metadata": {
  "interpreter": {
   "hash": "edf259275ad4a72d4dd5b452264ad5fb2b635233dff2a31edc6ebc740e55e21b"
  },
  "kernelspec": {
   "display_name": "Python 3.10.4 64-bit",
   "language": "python",
   "name": "python3"
  },
  "language_info": {
   "codemirror_mode": {
    "name": "ipython",
    "version": 3
   },
   "file_extension": ".py",
   "mimetype": "text/x-python",
   "name": "python",
   "nbconvert_exporter": "python",
   "pygments_lexer": "ipython3",
   "version": "3.10.4"
  },
  "orig_nbformat": 4
 },
 "nbformat": 4,
 "nbformat_minor": 2
}
