{
 "cells": [
  {
   "cell_type": "code",
   "execution_count": 1,
   "metadata": {},
   "outputs": [
    {
     "name": "stderr",
     "output_type": "stream",
     "text": [
      "c:\\Users\\chris\\AppData\\Local\\Programs\\Python\\Python310\\lib\\site-packages\\tqdm\\auto.py:22: TqdmWarning: IProgress not found. Please update jupyter and ipywidgets. See https://ipywidgets.readthedocs.io/en/stable/user_install.html\n",
      "  from .autonotebook import tqdm as notebook_tqdm\n"
     ]
    }
   ],
   "source": [
    "import csv\n",
    "from getpass import getpass\n",
    "from time import sleep\n",
    "from selenium.webdriver.common.keys import Keys\n",
    "from selenium.common.exceptions import NoSuchElementException, StaleElementReferenceException\n",
    "from selenium.webdriver import Chrome\n",
    "from selenium.webdriver.common.by import By\n",
    "from facebook_scraper import get_posts"
   ]
  },
  {
   "cell_type": "code",
   "execution_count": 2,
   "metadata": {},
   "outputs": [],
   "source": [
    "# create driver windows\n",
    "driver = Chrome()\n",
    "# mac\n",
    "#driver = Chrome('/Users/christophermena/Downloads/chromedriver')"
   ]
  },
  {
   "cell_type": "code",
   "execution_count": 3,
   "metadata": {},
   "outputs": [],
   "source": [
    "# navigate to fb\n",
    "driver.get('https://www.facebook.com/login')\n",
    "driver.maximize_window()"
   ]
  },
  {
   "cell_type": "code",
   "execution_count": 4,
   "metadata": {},
   "outputs": [],
   "source": [
    "username = driver.find_element(By.XPATH, '//input[@name=\"email\"]')\n",
    "username.send_keys('cmena9595@gmail.com')\n",
    "my_password = 'Men@c195!'\n",
    "password = driver.find_element(By.XPATH, '//input[@name=\"pass\"]')\n",
    "password.send_keys(my_password)"
   ]
  },
  {
   "cell_type": "code",
   "execution_count": 5,
   "metadata": {},
   "outputs": [],
   "source": [
    "password.send_keys(Keys.RETURN)"
   ]
  },
  {
   "cell_type": "code",
   "execution_count": 6,
   "metadata": {},
   "outputs": [],
   "source": [
    "# searching\n",
    "search = driver.find_element(By.XPATH, '//input[@placeholder=\"Search Facebook\"]')\n",
    "search.send_keys('NYC DOT')\n",
    "search.send_keys(Keys.RETURN)"
   ]
  },
  {
   "cell_type": "code",
   "execution_count": 7,
   "metadata": {},
   "outputs": [],
   "source": [
    "# go to page\n",
    "page = driver.find_element(By.XPATH, '//a[@aria-label=\"NYC DOT, Verified account\"]').click()"
   ]
  },
  {
   "cell_type": "code",
   "execution_count": 8,
   "metadata": {},
   "outputs": [],
   "source": [
    "# get elements\n",
    "cards = driver.find_elements(By.XPATH, '//div[@class=\"stjgntxs ni8dbmo4 l82x9zwi uo3d90p7 h905i5nu monazrh9\"]')"
   ]
  },
  {
   "cell_type": "code",
   "execution_count": 9,
   "metadata": {},
   "outputs": [
    {
     "data": {
      "text/plain": [
       "3"
      ]
     },
     "execution_count": 9,
     "metadata": {},
     "output_type": "execute_result"
    }
   ],
   "source": [
    "len(cards)"
   ]
  },
  {
   "cell_type": "code",
   "execution_count": 10,
   "metadata": {},
   "outputs": [],
   "source": [
    "card = cards[0]"
   ]
  },
  {
   "cell_type": "code",
   "execution_count": 11,
   "metadata": {},
   "outputs": [],
   "source": [
    "driver.execute_script(\"window.scrollBy(0, 500);\")"
   ]
  },
  {
   "cell_type": "code",
   "execution_count": 15,
   "metadata": {},
   "outputs": [],
   "source": [
    "# get elements\n",
    "cards = driver.find_elements(By.XPATH, '//div[@class=\"stjgntxs ni8dbmo4 l82x9zwi uo3d90p7 h905i5nu monazrh9\"]')"
   ]
  },
  {
   "cell_type": "code",
   "execution_count": 16,
   "metadata": {},
   "outputs": [],
   "source": [
    "card = cards[0]"
   ]
  },
  {
   "cell_type": "code",
   "execution_count": 19,
   "metadata": {},
   "outputs": [
    {
     "ename": "StaleElementReferenceException",
     "evalue": "Message: stale element reference: element is not attached to the page document\n  (Session info: chrome=101.0.4951.54)\nStacktrace:\nBacktrace:\n\tOrdinal0 [0x0047B8F3+2406643]\n\tOrdinal0 [0x0040AF31+1945393]\n\tOrdinal0 [0x002FC748+837448]\n\tOrdinal0 [0x002FF154+848212]\n\tOrdinal0 [0x002FF012+847890]\n\tOrdinal0 [0x002FF2A0+848544]\n\tOrdinal0 [0x00328FF5+1019893]\n\tOrdinal0 [0x0032957B+1021307]\n\tOrdinal0 [0x0031FAE1+981729]\n\tOrdinal0 [0x003442C4+1131204]\n\tOrdinal0 [0x0031FA64+981604]\n\tOrdinal0 [0x00344494+1131668]\n\tOrdinal0 [0x00354682+1197698]\n\tOrdinal0 [0x00344096+1130646]\n\tOrdinal0 [0x0031E636+976438]\n\tOrdinal0 [0x0031F546+980294]\n\tGetHandleVerifier [0x006E9612+2498066]\n\tGetHandleVerifier [0x006DC920+2445600]\n\tGetHandleVerifier [0x00514F2A+579370]\n\tGetHandleVerifier [0x00513D36+574774]\n\tOrdinal0 [0x00411C0B+1973259]\n\tOrdinal0 [0x00416688+1992328]\n\tOrdinal0 [0x00416775+1992565]\n\tOrdinal0 [0x0041F8D1+2029777]\n\tBaseThreadInitThunk [0x75596739+25]\n\tRtlGetFullPathName_UEx [0x776C8E7F+1215]\n\tRtlGetFullPathName_UEx [0x776C8E4D+1165]\n",
     "output_type": "error",
     "traceback": [
      "\u001b[1;31m---------------------------------------------------------------------------\u001b[0m",
      "\u001b[1;31mStaleElementReferenceException\u001b[0m            Traceback (most recent call last)",
      "\u001b[1;32mc:\\Users\\chris\\OneDrive\\Documents\\DOT-Local\\DOT-NYC\\Notebooks\\FB-Build.ipynb Cell 14'\u001b[0m in \u001b[0;36m<cell line: 1>\u001b[1;34m()\u001b[0m\n\u001b[1;32m----> <a href='vscode-notebook-cell:/c%3A/Users/chris/OneDrive/Documents/DOT-Local/DOT-NYC/Notebooks/FB-Build.ipynb#ch0000011?line=0'>1</a>\u001b[0m sub_menu \u001b[39m=\u001b[39m card\u001b[39m.\u001b[39;49mfind_element(By\u001b[39m.\u001b[39;49mXPATH, \u001b[39m'\u001b[39;49m\u001b[39m//span[@class=\u001b[39;49m\u001b[39m\"\u001b[39;49m\u001b[39md2edcug0 hpfvmrgz qv66sw1b c1et5uql oi732d6d ik7dh3pa ht8s03o8 a8c37x1j fe6kdd0r mau55g9w c8b282yb keod5gw0 nxhoafnm aigsh9s9 d9wwppkn iv3no6db jq4qci2q a3bd9o3v lrazzd5p m9osqain\u001b[39;49m\u001b[39m\"\u001b[39;49m\u001b[39m]\u001b[39;49m\u001b[39m'\u001b[39;49m)\n",
      "File \u001b[1;32mc:\\Users\\chris\\AppData\\Local\\Programs\\Python\\Python310\\lib\\site-packages\\selenium\\webdriver\\remote\\webelement.py:735\u001b[0m, in \u001b[0;36mWebElement.find_element\u001b[1;34m(self, by, value)\u001b[0m\n\u001b[0;32m    <a href='file:///c%3A/Users/chris/AppData/Local/Programs/Python/Python310/lib/site-packages/selenium/webdriver/remote/webelement.py?line=731'>732</a>\u001b[0m     by \u001b[39m=\u001b[39m By\u001b[39m.\u001b[39mCSS_SELECTOR\n\u001b[0;32m    <a href='file:///c%3A/Users/chris/AppData/Local/Programs/Python/Python310/lib/site-packages/selenium/webdriver/remote/webelement.py?line=732'>733</a>\u001b[0m     value \u001b[39m=\u001b[39m \u001b[39m'\u001b[39m\u001b[39m[name=\u001b[39m\u001b[39m\"\u001b[39m\u001b[39m%s\u001b[39;00m\u001b[39m\"\u001b[39m\u001b[39m]\u001b[39m\u001b[39m'\u001b[39m \u001b[39m%\u001b[39m value\n\u001b[1;32m--> <a href='file:///c%3A/Users/chris/AppData/Local/Programs/Python/Python310/lib/site-packages/selenium/webdriver/remote/webelement.py?line=734'>735</a>\u001b[0m \u001b[39mreturn\u001b[39;00m \u001b[39mself\u001b[39;49m\u001b[39m.\u001b[39;49m_execute(Command\u001b[39m.\u001b[39;49mFIND_CHILD_ELEMENT,\n\u001b[0;32m    <a href='file:///c%3A/Users/chris/AppData/Local/Programs/Python/Python310/lib/site-packages/selenium/webdriver/remote/webelement.py?line=735'>736</a>\u001b[0m                      {\u001b[39m\"\u001b[39;49m\u001b[39musing\u001b[39;49m\u001b[39m\"\u001b[39;49m: by, \u001b[39m\"\u001b[39;49m\u001b[39mvalue\u001b[39;49m\u001b[39m\"\u001b[39;49m: value})[\u001b[39m'\u001b[39m\u001b[39mvalue\u001b[39m\u001b[39m'\u001b[39m]\n",
      "File \u001b[1;32mc:\\Users\\chris\\AppData\\Local\\Programs\\Python\\Python310\\lib\\site-packages\\selenium\\webdriver\\remote\\webelement.py:710\u001b[0m, in \u001b[0;36mWebElement._execute\u001b[1;34m(self, command, params)\u001b[0m\n\u001b[0;32m    <a href='file:///c%3A/Users/chris/AppData/Local/Programs/Python/Python310/lib/site-packages/selenium/webdriver/remote/webelement.py?line=707'>708</a>\u001b[0m     params \u001b[39m=\u001b[39m {}\n\u001b[0;32m    <a href='file:///c%3A/Users/chris/AppData/Local/Programs/Python/Python310/lib/site-packages/selenium/webdriver/remote/webelement.py?line=708'>709</a>\u001b[0m params[\u001b[39m'\u001b[39m\u001b[39mid\u001b[39m\u001b[39m'\u001b[39m] \u001b[39m=\u001b[39m \u001b[39mself\u001b[39m\u001b[39m.\u001b[39m_id\n\u001b[1;32m--> <a href='file:///c%3A/Users/chris/AppData/Local/Programs/Python/Python310/lib/site-packages/selenium/webdriver/remote/webelement.py?line=709'>710</a>\u001b[0m \u001b[39mreturn\u001b[39;00m \u001b[39mself\u001b[39;49m\u001b[39m.\u001b[39;49m_parent\u001b[39m.\u001b[39;49mexecute(command, params)\n",
      "File \u001b[1;32mc:\\Users\\chris\\AppData\\Local\\Programs\\Python\\Python310\\lib\\site-packages\\selenium\\webdriver\\remote\\webdriver.py:424\u001b[0m, in \u001b[0;36mWebDriver.execute\u001b[1;34m(self, driver_command, params)\u001b[0m\n\u001b[0;32m    <a href='file:///c%3A/Users/chris/AppData/Local/Programs/Python/Python310/lib/site-packages/selenium/webdriver/remote/webdriver.py?line=421'>422</a>\u001b[0m response \u001b[39m=\u001b[39m \u001b[39mself\u001b[39m\u001b[39m.\u001b[39mcommand_executor\u001b[39m.\u001b[39mexecute(driver_command, params)\n\u001b[0;32m    <a href='file:///c%3A/Users/chris/AppData/Local/Programs/Python/Python310/lib/site-packages/selenium/webdriver/remote/webdriver.py?line=422'>423</a>\u001b[0m \u001b[39mif\u001b[39;00m response:\n\u001b[1;32m--> <a href='file:///c%3A/Users/chris/AppData/Local/Programs/Python/Python310/lib/site-packages/selenium/webdriver/remote/webdriver.py?line=423'>424</a>\u001b[0m     \u001b[39mself\u001b[39;49m\u001b[39m.\u001b[39;49merror_handler\u001b[39m.\u001b[39;49mcheck_response(response)\n\u001b[0;32m    <a href='file:///c%3A/Users/chris/AppData/Local/Programs/Python/Python310/lib/site-packages/selenium/webdriver/remote/webdriver.py?line=424'>425</a>\u001b[0m     response[\u001b[39m'\u001b[39m\u001b[39mvalue\u001b[39m\u001b[39m'\u001b[39m] \u001b[39m=\u001b[39m \u001b[39mself\u001b[39m\u001b[39m.\u001b[39m_unwrap_value(\n\u001b[0;32m    <a href='file:///c%3A/Users/chris/AppData/Local/Programs/Python/Python310/lib/site-packages/selenium/webdriver/remote/webdriver.py?line=425'>426</a>\u001b[0m         response\u001b[39m.\u001b[39mget(\u001b[39m'\u001b[39m\u001b[39mvalue\u001b[39m\u001b[39m'\u001b[39m, \u001b[39mNone\u001b[39;00m))\n\u001b[0;32m    <a href='file:///c%3A/Users/chris/AppData/Local/Programs/Python/Python310/lib/site-packages/selenium/webdriver/remote/webdriver.py?line=426'>427</a>\u001b[0m     \u001b[39mreturn\u001b[39;00m response\n",
      "File \u001b[1;32mc:\\Users\\chris\\AppData\\Local\\Programs\\Python\\Python310\\lib\\site-packages\\selenium\\webdriver\\remote\\errorhandler.py:247\u001b[0m, in \u001b[0;36mErrorHandler.check_response\u001b[1;34m(self, response)\u001b[0m\n\u001b[0;32m    <a href='file:///c%3A/Users/chris/AppData/Local/Programs/Python/Python310/lib/site-packages/selenium/webdriver/remote/errorhandler.py?line=244'>245</a>\u001b[0m         alert_text \u001b[39m=\u001b[39m value[\u001b[39m'\u001b[39m\u001b[39malert\u001b[39m\u001b[39m'\u001b[39m]\u001b[39m.\u001b[39mget(\u001b[39m'\u001b[39m\u001b[39mtext\u001b[39m\u001b[39m'\u001b[39m)\n\u001b[0;32m    <a href='file:///c%3A/Users/chris/AppData/Local/Programs/Python/Python310/lib/site-packages/selenium/webdriver/remote/errorhandler.py?line=245'>246</a>\u001b[0m     \u001b[39mraise\u001b[39;00m exception_class(message, screen, stacktrace, alert_text)  \u001b[39m# type: ignore[call-arg]  # mypy is not smart enough here\u001b[39;00m\n\u001b[1;32m--> <a href='file:///c%3A/Users/chris/AppData/Local/Programs/Python/Python310/lib/site-packages/selenium/webdriver/remote/errorhandler.py?line=246'>247</a>\u001b[0m \u001b[39mraise\u001b[39;00m exception_class(message, screen, stacktrace)\n",
      "\u001b[1;31mStaleElementReferenceException\u001b[0m: Message: stale element reference: element is not attached to the page document\n  (Session info: chrome=101.0.4951.54)\nStacktrace:\nBacktrace:\n\tOrdinal0 [0x0047B8F3+2406643]\n\tOrdinal0 [0x0040AF31+1945393]\n\tOrdinal0 [0x002FC748+837448]\n\tOrdinal0 [0x002FF154+848212]\n\tOrdinal0 [0x002FF012+847890]\n\tOrdinal0 [0x002FF2A0+848544]\n\tOrdinal0 [0x00328FF5+1019893]\n\tOrdinal0 [0x0032957B+1021307]\n\tOrdinal0 [0x0031FAE1+981729]\n\tOrdinal0 [0x003442C4+1131204]\n\tOrdinal0 [0x0031FA64+981604]\n\tOrdinal0 [0x00344494+1131668]\n\tOrdinal0 [0x00354682+1197698]\n\tOrdinal0 [0x00344096+1130646]\n\tOrdinal0 [0x0031E636+976438]\n\tOrdinal0 [0x0031F546+980294]\n\tGetHandleVerifier [0x006E9612+2498066]\n\tGetHandleVerifier [0x006DC920+2445600]\n\tGetHandleVerifier [0x00514F2A+579370]\n\tGetHandleVerifier [0x00513D36+574774]\n\tOrdinal0 [0x00411C0B+1973259]\n\tOrdinal0 [0x00416688+1992328]\n\tOrdinal0 [0x00416775+1992565]\n\tOrdinal0 [0x0041F8D1+2029777]\n\tBaseThreadInitThunk [0x75596739+25]\n\tRtlGetFullPathName_UEx [0x776C8E7F+1215]\n\tRtlGetFullPathName_UEx [0x776C8E4D+1165]\n"
     ]
    }
   ],
   "source": [
    "sub_menu = card.find_element(By.XPATH, '//span[@class=\"d2edcug0 hpfvmrgz qv66sw1b c1et5uql oi732d6d ik7dh3pa ht8s03o8 a8c37x1j fe6kdd0r mau55g9w c8b282yb keod5gw0 nxhoafnm aigsh9s9 d9wwppkn iv3no6db jq4qci2q a3bd9o3v lrazzd5p m9osqain\"]')"
   ]
  }
 ],
 "metadata": {
  "interpreter": {
   "hash": "edf259275ad4a72d4dd5b452264ad5fb2b635233dff2a31edc6ebc740e55e21b"
  },
  "kernelspec": {
   "display_name": "Python 3.10.4 64-bit",
   "language": "python",
   "name": "python3"
  },
  "language_info": {
   "codemirror_mode": {
    "name": "ipython",
    "version": 3
   },
   "file_extension": ".py",
   "mimetype": "text/x-python",
   "name": "python",
   "nbconvert_exporter": "python",
   "pygments_lexer": "ipython3",
   "version": "3.10.4"
  },
  "orig_nbformat": 4
 },
 "nbformat": 4,
 "nbformat_minor": 2
}
