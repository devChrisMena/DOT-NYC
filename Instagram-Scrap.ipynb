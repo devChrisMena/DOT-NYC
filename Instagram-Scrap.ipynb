{
 "cells": [
  {
   "cell_type": "code",
   "execution_count": 1,
   "metadata": {},
   "outputs": [],
   "source": [
    "import csv\n",
    "from getpass import getpass\n",
    "from time import sleep\n",
    "from selenium.webdriver.common.keys import Keys\n",
    "from selenium.common.exceptions import NoSuchElementException, StaleElementReferenceException\n",
    "from selenium.webdriver import Chrome\n",
    "from selenium.webdriver.common.by import By\n",
    "from selenium.webdriver import ActionChains"
   ]
  },
  {
   "cell_type": "code",
   "execution_count": 2,
   "metadata": {},
   "outputs": [],
   "source": [
    "# create driver windows\n",
    "driver = Chrome()\n",
    "# mac\n",
    "#driver = Chrome('/Users/christophermena/Downloads/chromedriver')"
   ]
  },
  {
   "cell_type": "code",
   "execution_count": 3,
   "metadata": {},
   "outputs": [],
   "source": [
    "# navigate to fb\n",
    "driver.get('https://www.instagram.com/')"
   ]
  },
  {
   "cell_type": "code",
   "execution_count": 4,
   "metadata": {},
   "outputs": [],
   "source": [
    "username = driver.find_element(By.XPATH, '//input[@name=\"username\"]')"
   ]
  },
  {
   "cell_type": "code",
   "execution_count": 5,
   "metadata": {},
   "outputs": [],
   "source": [
    "username.send_keys('iamcriss_1')"
   ]
  },
  {
   "cell_type": "code",
   "execution_count": 6,
   "metadata": {},
   "outputs": [],
   "source": [
    "password = driver.find_element(By.XPATH, '//input[@name=\"password\"]')"
   ]
  },
  {
   "cell_type": "code",
   "execution_count": 7,
   "metadata": {},
   "outputs": [],
   "source": [
    "password.send_keys('titi020696')"
   ]
  },
  {
   "cell_type": "code",
   "execution_count": 8,
   "metadata": {},
   "outputs": [],
   "source": [
    "password.send_keys(Keys.RETURN)"
   ]
  },
  {
   "cell_type": "code",
   "execution_count": 9,
   "metadata": {},
   "outputs": [],
   "source": [
    "save_btm = driver.find_element(By.XPATH, '//div[@class=\"cmbtv\"]').click()"
   ]
  },
  {
   "cell_type": "code",
   "execution_count": 10,
   "metadata": {},
   "outputs": [],
   "source": [
    "notification_btn = driver.find_element(By.XPATH, '//div[@class=\"mt3GC\"]').click()"
   ]
  },
  {
   "cell_type": "code",
   "execution_count": 11,
   "metadata": {},
   "outputs": [],
   "source": [
    "search = driver.find_element(By.XPATH, '//div[@class=\" cTBqC\"]').click()"
   ]
  },
  {
   "cell_type": "code",
   "execution_count": 12,
   "metadata": {},
   "outputs": [],
   "source": [
    "search = driver.find_element(By.XPATH, '//input[@placeholder=\"Search\"]')"
   ]
  },
  {
   "cell_type": "code",
   "execution_count": 13,
   "metadata": {},
   "outputs": [],
   "source": [
    "search.send_keys('#nycdot')"
   ]
  },
  {
   "cell_type": "code",
   "execution_count": 14,
   "metadata": {},
   "outputs": [],
   "source": [
    "search.send_keys(Keys.RETURN)"
   ]
  },
  {
   "cell_type": "code",
   "execution_count": 15,
   "metadata": {},
   "outputs": [],
   "source": [
    "dotpage = driver.find_element(By.XPATH, '//a[@href=\"/explore/tags/nycdot/\"]').click()"
   ]
  },
  {
   "cell_type": "code",
   "execution_count": 16,
   "metadata": {},
   "outputs": [],
   "source": [
    "pages = driver.find_element(By.XPATH, '//article[@class=\"KC1QD\"]')"
   ]
  },
  {
   "cell_type": "code",
   "execution_count": 17,
   "metadata": {},
   "outputs": [],
   "source": [
    "recent_pages = pages.find_element(By.XPATH, './div[2]/div[1]')"
   ]
  },
  {
   "cell_type": "code",
   "execution_count": 18,
   "metadata": {},
   "outputs": [],
   "source": [
    "cards = recent_pages.find_elements(By.XPATH, './/div[@class=\"Nnq7C weEfm\"]')"
   ]
  },
  {
   "cell_type": "code",
   "execution_count": 19,
   "metadata": {},
   "outputs": [
    {
     "data": {
      "text/plain": [
       "8"
      ]
     },
     "execution_count": 19,
     "metadata": {},
     "output_type": "execute_result"
    }
   ],
   "source": [
    "len(cards)"
   ]
  },
  {
   "cell_type": "code",
   "execution_count": 20,
   "metadata": {},
   "outputs": [],
   "source": [
    "card = cards[0]"
   ]
  },
  {
   "cell_type": "code",
   "execution_count": 21,
   "metadata": {},
   "outputs": [],
   "source": [
    "posts = card.find_elements(By.XPATH, './/div[@class=\"v1Nh3 kIKUG _bz0w\"]')"
   ]
  },
  {
   "cell_type": "code",
   "execution_count": 22,
   "metadata": {},
   "outputs": [],
   "source": [
    "post = posts[0]"
   ]
  },
  {
   "cell_type": "code",
   "execution_count": 23,
   "metadata": {},
   "outputs": [],
   "source": [
    "post.find_element(By.XPATH, './/a').click()"
   ]
  },
  {
   "cell_type": "code",
   "execution_count": 24,
   "metadata": {},
   "outputs": [],
   "source": [
    "post_content = post.find_element(By.XPATH, '//div[@role=\"presentation\"]')"
   ]
  },
  {
   "cell_type": "code",
   "execution_count": 25,
   "metadata": {},
   "outputs": [],
   "source": [
    "username = post_content.find_element(By.XPATH, './/h2[@class=\"_6lAjh \"]').text"
   ]
  },
  {
   "cell_type": "code",
   "execution_count": 26,
   "metadata": {},
   "outputs": [],
   "source": [
    "comment = post_content.find_element(By.XPATH, './/span[@class=\"_7UhW9   xLCgt      MMzan   KV-D4            se6yk       T0kll \"]').text"
   ]
  },
  {
   "cell_type": "code",
   "execution_count": 47,
   "metadata": {},
   "outputs": [],
   "source": [
    "time = post_content.find_element(By.XPATH, './/time[@class=\"_1o9PC\"]').get_attribute('datetime')"
   ]
  },
  {
   "cell_type": "code",
   "execution_count": 48,
   "metadata": {},
   "outputs": [],
   "source": [
    "time = time[:10]"
   ]
  },
  {
   "cell_type": "markdown",
   "metadata": {},
   "source": []
  },
  {
   "cell_type": "code",
   "execution_count": 43,
   "metadata": {},
   "outputs": [
    {
     "data": {
      "text/plain": [
       "'2022 04 19'"
      ]
     },
     "execution_count": 43,
     "metadata": {},
     "output_type": "execute_result"
    }
   ],
   "source": [
    "time"
   ]
  },
  {
   "cell_type": "code",
   "execution_count": 44,
   "metadata": {},
   "outputs": [],
   "source": [
    "import datetime"
   ]
  },
  {
   "cell_type": "code",
   "execution_count": 45,
   "metadata": {},
   "outputs": [],
   "source": [
    "dt = datetime.datetime.strptime(time, '%Y %m %d')"
   ]
  },
  {
   "cell_type": "code",
   "execution_count": 46,
   "metadata": {},
   "outputs": [
    {
     "data": {
      "text/plain": [
       "datetime.datetime(2022, 4, 19, 0, 0)"
      ]
     },
     "execution_count": 46,
     "metadata": {},
     "output_type": "execute_result"
    }
   ],
   "source": [
    "dt"
   ]
  },
  {
   "cell_type": "code",
   "execution_count": null,
   "metadata": {},
   "outputs": [],
   "source": [
    "# close post\n",
    "post_content.find_element(By.XPATH, './/button[@class=\"wpO6b  \"]').click()"
   ]
  },
  {
   "cell_type": "code",
   "execution_count": null,
   "metadata": {},
   "outputs": [],
   "source": [
    "def getPostData(post):\n",
    "    \"\"\"\n",
    "    Extract data from instagram data.\n",
    "    Takes a post card  Selenium WebElement as a parameter\n",
    "    \"\"\"\n",
    "    post.find_element(By.XPATH, './/a').click()\n",
    "    sleep(3)\n",
    "    post_content = post.find_element(By.XPATH, '//div[@role=\"presentation\"]')\n",
    "    try: username = post_content.find_element(By.XPATH, './/h2[@class=\"_6lAjh \"]').text\n",
    "    except NoSuchElementException:\n",
    "        return\n",
    "    comment = post_content.find_element(By.XPATH, './/span[@class=\"_7UhW9   xLCgt      MMzan   KV-D4            se6yk       T0kll \"]').text\n",
    "    time = post_content.find_element(By.XPATH, './/time[@class=\"_1o9PC\"]').get_attribute('datetime')\n",
    "    time = time[:10]\n",
    "    # close post\n",
    "    post_content.find_element(By.XPATH, './/button[@class=\"wpO6b  \"]').click()\n",
    "    sleep(1)\n",
    "    content = (username, comment, time)\n",
    "    return content\n"
   ]
  },
  {
   "cell_type": "code",
   "execution_count": null,
   "metadata": {},
   "outputs": [],
   "source": [
    "data = []\n",
    "post_ids = set()\n",
    "last_position = driver.execute_script('return window.pageYOffset;')\n",
    "scrolling = True"
   ]
  },
  {
   "cell_type": "code",
   "execution_count": null,
   "metadata": {},
   "outputs": [],
   "source": [
    "while scrolling:\n",
    "    # load post\n",
    "    cards = recent_pages.find_elements(By.XPATH, './/div[@class=\"Nnq7C weEfm\"]')\n",
    "    for card in cards[-15:]:\n",
    "         posts = card.find_elements(By.XPATH, './/div[@class=\"v1Nh3 kIKUG _bz0w\"]')\n",
    "         for post in posts:\n",
    "             comment = getPostData(post)\n",
    "             if comment:\n",
    "                 # create unique id\n",
    "                 post_id = ''.join(comment)\n",
    "                 # if id not in post_ids\n",
    "                 if post_id not in post_ids:\n",
    "                     post_ids.add(post_id)\n",
    "                     data.append(comment)\n",
    "    # scroll attempt\n",
    "    scroll_attempt = 0\n",
    "    while True:\n",
    "        # scroll down page\n",
    "        driver.execute_script('window.scrollTo(0, document.body.scrollHeight);') \n",
    "        sleep(3)\n",
    "        current_position = driver.execute_script('return window.pageYOffset;')\n",
    "        if last_position == current_position:\n",
    "            scroll_attemtp += 1\n",
    "            # end scrolling\n",
    "            if scroll_attempt >= 3:\n",
    "                scrolling = False\n",
    "                break\n",
    "            else:\n",
    "                sleep(3)\n",
    "        else:\n",
    "            last_position = current_position\n",
    "            break\n"
   ]
  },
  {
   "cell_type": "code",
   "execution_count": null,
   "metadata": {},
   "outputs": [],
   "source": [
    "for card in cards:\n",
    "    posts = card.find_elements(By.XPATH, './/div[@class=\"v1Nh3 kIKUG _bz0w\"]')\n",
    "    for post in posts:\n",
    "        data.append(getPostData(post))\n",
    "        sleep(2)"
   ]
  },
  {
   "cell_type": "code",
   "execution_count": null,
   "metadata": {},
   "outputs": [],
   "source": [
    "driver.close()"
   ]
  },
  {
   "cell_type": "code",
   "execution_count": null,
   "metadata": {},
   "outputs": [],
   "source": [
    "# saving data\n",
    "with open('ig_data.csv', 'w', newline='', encoding='utf-8') as f:\n",
    "    header = ['UserName', 'Comments', 'Time']\n",
    "    writer = csv.writer(f)\n",
    "    writer.writerow(header)\n",
    "    writer.writerows(data)"
   ]
  }
 ],
 "metadata": {
  "interpreter": {
   "hash": "5ce4424721d493f58282f839f878658361cd65b23e0b9652bae3931bb3f42843"
  },
  "kernelspec": {
   "display_name": "Python 3.10.3 64-bit",
   "language": "python",
   "name": "python3"
  },
  "language_info": {
   "codemirror_mode": {
    "name": "ipython",
    "version": 3
   },
   "file_extension": ".py",
   "mimetype": "text/x-python",
   "name": "python",
   "nbconvert_exporter": "python",
   "pygments_lexer": "ipython3",
   "version": "3.10.3"
  },
  "orig_nbformat": 4
 },
 "nbformat": 4,
 "nbformat_minor": 2
}
