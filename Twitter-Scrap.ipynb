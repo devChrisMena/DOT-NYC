{
 "cells": [
  {
   "cell_type": "code",
   "execution_count": 1,
   "id": "82c01482-1489-4e5b-b0e2-1ca6abad0f3b",
   "metadata": {},
   "outputs": [],
   "source": [
    "import csv\n",
    "from getpass import getpass\n",
    "from time import sleep\n",
    "from selenium.webdriver.common.keys import Keys\n",
    "from selenium.common.exceptions import NoSuchElementException\n",
    "from selenium.webdriver import Chrome\n",
    "from selenium.webdriver.common.by import By"
   ]
  },
  {
   "cell_type": "code",
   "execution_count": 2,
   "id": "59a5dfe8-92b6-4813-b85b-2ef52426a49e",
   "metadata": {},
   "outputs": [],
   "source": [
    "# create driver windows\n",
    "#driver = Chrome()"
   ]
  },
  {
   "cell_type": "code",
   "execution_count": 3,
   "id": "dd777bb0-9964-49ca-86fc-be39dbd71f0c",
   "metadata": {},
   "outputs": [
    {
     "name": "stderr",
     "output_type": "stream",
     "text": [
      "/var/folders/_w/m3g1rrq93qz9t5s2xkwndxwh0000gn/T/ipykernel_29320/2576440936.py:2: DeprecationWarning: executable_path has been deprecated, please pass in a Service object\n",
      "  driver = Chrome('/Users/christophermena/Downloads/chromedriver')\n"
     ]
    }
   ],
   "source": [
    "# mac\n",
    "driver = Chrome('/Users/christophermena/Downloads/chromedriver')"
   ]
  },
  {
   "cell_type": "code",
   "execution_count": 4,
   "id": "85738c2e-281b-4c45-ae06-bd1bc84dbae8",
   "metadata": {},
   "outputs": [],
   "source": [
    "# navigate to twitter\n",
    "driver.get('https://www.twitter.com/login')"
   ]
  },
  {
   "cell_type": "code",
   "execution_count": 5,
   "id": "b9ad752c-d27b-4996-b5a8-5f135d73461c",
   "metadata": {},
   "outputs": [],
   "source": [
    "username = driver.find_element(by=By.XPATH, value='//input[@name=\"text\"]')"
   ]
  },
  {
   "cell_type": "code",
   "execution_count": 6,
   "id": "209a551c-fca4-4c01-be36-92716ab6c731",
   "metadata": {},
   "outputs": [],
   "source": [
    "username.send_keys('iamcriss_1')"
   ]
  },
  {
   "cell_type": "code",
   "execution_count": 7,
   "id": "55b6e845-f6cd-4a19-90bb-f7468dfc5ca0",
   "metadata": {},
   "outputs": [],
   "source": [
    "username.send_keys(Keys.RETURN)"
   ]
  },
  {
   "cell_type": "code",
   "execution_count": 8,
   "id": "13782ed5-af42-4bc2-8f0b-e65e07990c41",
   "metadata": {},
   "outputs": [
    {
     "name": "stdin",
     "output_type": "stream",
     "text": [
      " ·········\n"
     ]
    }
   ],
   "source": [
    "my_password = getpass()"
   ]
  },
  {
   "cell_type": "code",
   "execution_count": 9,
   "id": "8aa553cb-e7be-4958-9dfa-c10d7882b6be",
   "metadata": {},
   "outputs": [],
   "source": [
    "password = driver.find_element(by=By.XPATH, value='//input[@name=\"password\"]')"
   ]
  },
  {
   "cell_type": "code",
   "execution_count": 10,
   "id": "c09f0e4b-ed47-43b1-a006-7545f9506c4d",
   "metadata": {},
   "outputs": [],
   "source": [
    "password.send_keys(my_password)"
   ]
  },
  {
   "cell_type": "code",
   "execution_count": 11,
   "id": "95867613-3fc4-4e07-a74c-9d20fbdd34c5",
   "metadata": {},
   "outputs": [],
   "source": [
    "password.send_keys(Keys.RETURN)"
   ]
  },
  {
   "cell_type": "code",
   "execution_count": 12,
   "id": "60f93b28-3657-4dac-a1e9-d1e319b3702b",
   "metadata": {},
   "outputs": [],
   "source": [
    "# searching\n",
    "search = driver.find_element(by=By.XPATH, value='//input[@placeholder=\"Search Twitter\"]')\n",
    "search.send_keys('@DOT')\n",
    "search.send_keys(Keys.RETURN)"
   ]
  },
  {
   "cell_type": "code",
   "execution_count": 13,
   "id": "da1857b2-b027-4568-bea1-2915b8af234f",
   "metadata": {},
   "outputs": [],
   "source": [
    "driver.find_element(by=By.LINK_TEXT, value='Latest').click()"
   ]
  },
  {
   "cell_type": "code",
   "execution_count": 14,
   "id": "7e843feb-387e-434b-8d2b-cc55d32f4525",
   "metadata": {},
   "outputs": [],
   "source": [
    "cards = driver.find_elements(by=By.XPATH, value='//article[@data-testid=\"tweet\"]')"
   ]
  },
  {
   "cell_type": "code",
   "execution_count": 15,
   "id": "ccaee310-2a43-40b6-b2bf-a782cb321d8b",
   "metadata": {},
   "outputs": [
    {
     "data": {
      "text/plain": [
       "11"
      ]
     },
     "execution_count": 15,
     "metadata": {},
     "output_type": "execute_result"
    }
   ],
   "source": [
    "len(cards)"
   ]
  },
  {
   "cell_type": "code",
   "execution_count": 16,
   "id": "bccc7b6d-c9b1-4c2d-b899-c72a7831590c",
   "metadata": {},
   "outputs": [],
   "source": [
    "card = cards[4]"
   ]
  },
  {
   "cell_type": "code",
   "execution_count": 17,
   "id": "a2f78f04-b102-4519-914d-aff93f0d97df",
   "metadata": {},
   "outputs": [
    {
     "data": {
      "text/plain": [
       "'USMC_Vet'"
      ]
     },
     "execution_count": 17,
     "metadata": {},
     "output_type": "execute_result"
    }
   ],
   "source": [
    "card.find_element(by=By.XPATH, value='./div[1]/div[1]/div[1]/div[2]/div[2]/div[1]/div[1]/div[1]/div[1]/div[1]/div[1]//a').text"
   ]
  },
  {
   "cell_type": "code",
   "execution_count": 18,
   "id": "6c5bdbd9-94f9-4b5f-b3e8-8a1d4a000066",
   "metadata": {},
   "outputs": [
    {
     "data": {
      "text/plain": [
       "'@Fly_NFT_Queen'"
      ]
     },
     "execution_count": 18,
     "metadata": {},
     "output_type": "execute_result"
    }
   ],
   "source": [
    "# twitter handle\n",
    "card.find_element(by=By.XPATH, value='.//span[contains(text(), \"@\")]').text"
   ]
  },
  {
   "cell_type": "code",
   "execution_count": 19,
   "id": "11ce96e0-aa91-43fa-8f53-b8556d046c0e",
   "metadata": {},
   "outputs": [
    {
     "data": {
      "text/plain": [
       "'2022-03-30T15:05:15.000Z'"
      ]
     },
     "execution_count": 19,
     "metadata": {},
     "output_type": "execute_result"
    }
   ],
   "source": [
    "# post date\n",
    "card.find_element(By.XPATH, '//time').get_attribute('datetime')"
   ]
  },
  {
   "cell_type": "code",
   "execution_count": 20,
   "id": "58a0622f-fe05-4249-b0a3-e165e338d1a4",
   "metadata": {},
   "outputs": [
    {
     "data": {
      "text/plain": [
       "'@dot\\n @adrenilinjnky\\n @BetterByTheMile'"
      ]
     },
     "execution_count": 20,
     "metadata": {},
     "output_type": "execute_result"
    }
   ],
   "source": [
    "# content of tweet\n",
    "comment = card.find_element(By.XPATH, './div[1]/div[1]/div[1]/div[2]/div[2]/div[2]/div[2]').text\n",
    "response = card.find_element(By.XPATH, './div[1]/div[1]/div[1]/div[2]/div[2]/div[2]/div[3]').text\n",
    "comment + response"
   ]
  },
  {
   "cell_type": "code",
   "execution_count": 21,
   "id": "43eba1e3-2c5b-4e1f-a5d4-1acdbf29fef3",
   "metadata": {},
   "outputs": [
    {
     "data": {
      "text/plain": [
       "''"
      ]
     },
     "execution_count": 21,
     "metadata": {},
     "output_type": "execute_result"
    }
   ],
   "source": [
    "# reply count\n",
    "card.find_element(By.XPATH, './/div[@data-testid=\"reply\"]').text"
   ]
  },
  {
   "cell_type": "code",
   "execution_count": 22,
   "id": "4f81fd1a-1a52-4a76-9b77-bbf39e675a26",
   "metadata": {},
   "outputs": [
    {
     "data": {
      "text/plain": [
       "''"
      ]
     },
     "execution_count": 22,
     "metadata": {},
     "output_type": "execute_result"
    }
   ],
   "source": [
    "# retweet count\n",
    "card.find_element(By.XPATH, './/div[@data-testid=\"retweet\"]').text"
   ]
  },
  {
   "cell_type": "code",
   "execution_count": 23,
   "id": "54e49f9b-33b4-4932-8134-e82a2262595f",
   "metadata": {},
   "outputs": [
    {
     "data": {
      "text/plain": [
       "'1'"
      ]
     },
     "execution_count": 23,
     "metadata": {},
     "output_type": "execute_result"
    }
   ],
   "source": [
    "# like count\n",
    "card.find_element(By.XPATH, './/div[@data-testid=\"like\"]').text"
   ]
  },
  {
   "cell_type": "code",
   "execution_count": 24,
   "id": "d42e9259-f84d-49f9-97ad-46c0a34903dc",
   "metadata": {},
   "outputs": [],
   "source": [
    "def getTweetData(card):\n",
    "    \"\"\"Extract data from tweet data\"\"\"\n",
    "    username = card.find_element(by=By.XPATH, value='./div[1]/div[1]/div[1]/div[2]/div[2]/div[1]/div[1]/div[1]/div[1]/div[1]/div[1]//a').text\n",
    "    handle = card.find_element(by=By.XPATH, value='.//span[contains(text(), \"@\")]').text\n",
    "    try:\n",
    "        postdate = card.find_element(By.XPATH, '//time').get_attribute('datetime')\n",
    "    except NoSuchElementException:\n",
    "        return\n",
    "    comment = card.find_element(By.XPATH, './div[1]/div[1]/div[1]/div[2]/div[2]/div[2]/div[2]').text\n",
    "    response = card.find_element(By.XPATH, './div[1]/div[1]/div[1]/div[2]/div[2]/div[2]/div[3]').text\n",
    "    text = comment + response\n",
    "    reply_count = card.find_element(By.XPATH, './/div[@data-testid=\"reply\"]').text\n",
    "    retweet_count = card.find_element(By.XPATH, './/div[@data-testid=\"retweet\"]').text\n",
    "    like_count = card.find_element(By.XPATH, './/div[@data-testid=\"like\"]').text\n",
    "    \n",
    "    tweet = (username, handle, postdate, text, reply_count, retweet_count, like_count)\n",
    "    return tweet\n"
   ]
  },
  {
   "cell_type": "code",
   "execution_count": 25,
   "id": "bfac88f8-99de-483e-8b36-0f5b605230e0",
   "metadata": {},
   "outputs": [
    {
     "data": {
      "text/plain": [
       "('USMC_Vet',\n",
       " '@Fly_NFT_Queen',\n",
       " '2022-03-30T15:05:15.000Z',\n",
       " '@dot\\n @adrenilinjnky\\n @BetterByTheMile',\n",
       " '',\n",
       " '',\n",
       " '1')"
      ]
     },
     "execution_count": 25,
     "metadata": {},
     "output_type": "execute_result"
    }
   ],
   "source": [
    "getTweetData(card)"
   ]
  },
  {
   "cell_type": "code",
   "execution_count": 26,
   "id": "f76b845e-3b62-4d9e-b413-23840b83e94d",
   "metadata": {},
   "outputs": [],
   "source": [
    "tweet_data = []\n",
    "\n",
    "for card in cards:\n",
    "    data = getTweetData(card)\n",
    "    if data:\n",
    "        tweet_data.append(data)"
   ]
  },
  {
   "cell_type": "code",
   "execution_count": 27,
   "id": "f9a2e622-7051-4d89-a2cc-b5c33f89dbea",
   "metadata": {},
   "outputs": [
    {
     "name": "stdout",
     "output_type": "stream",
     "text": [
      "('Mills Black LLP', '@MillsBlackLLP', '2022-03-30T15:05:15.000Z', '', '', '', '')\n",
      "----------------------------------------------------------------------------------------------------\n",
      "('USMC_Vet', '@Fly_NFT_Queen', '2022-03-30T15:05:15.000Z', '@adrenilinjnky\\n @dot', '', '', '')\n",
      "----------------------------------------------------------------------------------------------------\n",
      "('ServiceNow', '@ServiceNow', '2022-03-30T15:05:15.000Z', '0:04\\nservicenow.com\\nThe World Works with ServiceNow | Learn More42\\n27\\n260', '42', '27', '260')\n",
      "----------------------------------------------------------------------------------------------------\n",
      "('USMC_Vet', '@Fly_NFT_Queen', '2022-03-30T15:05:15.000Z', '@1stSgt_Jroc\\n @BetterByTheMile\\n @DeanSailo\\n @adrenilinjnky\\n @dot', '', '', '')\n",
      "----------------------------------------------------------------------------------------------------\n",
      "('USMC_Vet', '@Fly_NFT_Queen', '2022-03-30T15:05:15.000Z', '@dot\\n @adrenilinjnky\\n @BetterByTheMile', '', '', '1')\n",
      "----------------------------------------------------------------------------------------------------\n",
      "('Real Take Two interactive', '@Undeniablefool', '2022-03-30T15:05:15.000Z', 'Ill thank god for your demise', '', '', '2')\n",
      "----------------------------------------------------------------------------------------------------\n",
      "('Real Take Two interactive', '@Undeniablefool', '2022-03-30T15:05:15.000Z', 'Only the \\n@Globies\\n can save \\n@McDonalds\\n now', '', '', '1')\n",
      "----------------------------------------------------------------------------------------------------\n",
      "('snoot', '@the_bruhn', '2022-03-30T15:05:15.000Z', 'Who tf are you. You aren’t affiliated with \\n@dot\\n @McDonalds\\n @Wrangler', '', '', '1')\n",
      "----------------------------------------------------------------------------------------------------\n",
      "('Stadium', '@Stadium', '2022-03-30T15:05:15.000Z', 'Visit HeGetsUs\\n0:15\\nVideo will play after ad\\n55\\n3\\n49', '5', '3', '49')\n",
      "----------------------------------------------------------------------------------------------------\n",
      "('snoot', '@the_bruhn', '2022-03-30T15:05:15.000Z', 'YOU BETTER CONTACT \\n@dot\\n OR SOME THING WILL HAPPEN', '2', '', '1')\n",
      "----------------------------------------------------------------------------------------------------\n",
      "('Chance', '@ancechay', '2022-03-30T15:05:15.000Z', 'YOU NOW CONTACT \\n@DOT', '1', '', '1')\n",
      "----------------------------------------------------------------------------------------------------\n"
     ]
    }
   ],
   "source": [
    "for data in tweet_data:\n",
    "    print(data)\n",
    "    print('-'*100)"
   ]
  },
  {
   "cell_type": "code",
   "execution_count": 28,
   "id": "5a72df00-f66d-4eaf-8ec5-d8de2988cfb9",
   "metadata": {},
   "outputs": [],
   "source": [
    "# scroll down page\n",
    "driver.execute_script('window.scrollTo(0, document.body.scrollHeight);')"
   ]
  },
  {
   "cell_type": "markdown",
   "id": "999f6d64-cf67-49fa-af8d-5bf878f637e7",
   "metadata": {},
   "source": [
    "# Putting All Together #"
   ]
  },
  {
   "cell_type": "code",
   "execution_count": 1,
   "id": "d72fb591-53a4-4f47-8af5-b4b0149a2c0f",
   "metadata": {},
   "outputs": [
    {
     "name": "stderr",
     "output_type": "stream",
     "text": [
      "/var/folders/_w/m3g1rrq93qz9t5s2xkwndxwh0000gn/T/ipykernel_17897/3292597484.py:29: DeprecationWarning: executable_path has been deprecated, please pass in a Service object\n",
      "  driver = Chrome('/Users/christophermena/Downloads/chromedriver')\n"
     ]
    },
    {
     "name": "stdin",
     "output_type": "stream",
     "text": [
      " ·········\n"
     ]
    }
   ],
   "source": [
    "import csv\n",
    "from getpass import getpass\n",
    "from time import sleep\n",
    "from selenium.webdriver.common.keys import Keys\n",
    "from selenium.common.exceptions import NoSuchElementException\n",
    "from selenium.webdriver import Chrome\n",
    "from selenium.webdriver.common.by import By\n",
    "\n",
    "def getTweetData(card):\n",
    "    \"\"\"Extract data from tweet data\"\"\"\n",
    "    username = card.find_element(by=By.XPATH, value='./div[1]/div[1]/div[1]/div[2]/div[2]/div[1]/div[1]/div[1]/div[1]/div[1]/div[1]//a').text\n",
    "    handle = card.find_element(by=By.XPATH, value='.//span[contains(text(), \"@\")]').text\n",
    "    try:\n",
    "        postdate = card.find_element(By.XPATH, '//time').get_attribute('datetime')\n",
    "    except NoSuchElementException:\n",
    "        return\n",
    "    comment = card.find_element(By.XPATH, './div[1]/div[1]/div[1]/div[2]/div[2]/div[2]/div[2]').text\n",
    "    #response = card.find_element(By.XPATH, './div[1]/div[1]/div[1]/div[2]/div[2]/div[2]/div[3]').text\n",
    "    #text = comment + response\n",
    "    text = comment\n",
    "    reply_count = card.find_element(By.XPATH, './/div[@data-testid=\"reply\"]').text\n",
    "    retweet_count = card.find_element(By.XPATH, './/div[@data-testid=\"retweet\"]').text\n",
    "    like_count = card.find_element(By.XPATH, './/div[@data-testid=\"like\"]').text\n",
    "    \n",
    "    tweet = (username, handle, postdate, text, reply_count, retweet_count, like_count)\n",
    "    return tweet\n",
    "\n",
    "# create instance of webdriver\n",
    "driver = Chrome('/Users/christophermena/Downloads/chromedriver')\n",
    "#driver = Chrome()\n",
    "sleep(1)\n",
    "\n",
    "# navigate to login screen\n",
    "driver.get('https://www.twitter.com/login')\n",
    "driver.maximize_window()\n",
    "sleep(2)\n",
    "\n",
    "username = driver.find_element(by=By.XPATH, value='//input[@name=\"text\"]')\n",
    "username.send_keys('iamcriss_1')\n",
    "username.send_keys(Keys.RETURN)\n",
    "sleep(2)\n",
    "\n",
    "my_password = getpass()\n",
    "password = driver.find_element(by=By.XPATH, value='//input[@name=\"password\"]')\n",
    "password.send_keys(my_password)\n",
    "password.send_keys(Keys.RETURN)\n",
    "sleep(10)\n",
    "\n",
    "# searching\n",
    "search = driver.find_element(by=By.XPATH, value='//input[@placeholder=\"Search Twitter\"]')\n",
    "search.send_keys('@DOT')\n",
    "search.send_keys(Keys.RETURN)\n",
    "sleep(2)\n",
    "\n",
    "# naviagte to lastest tap\n",
    "driver.find_element(by=By.LINK_TEXT, value='Latest').click()\n",
    "\n",
    "# get all tweets on the page\n",
    "data = []\n",
    "tweet_ids = set()\n",
    "last_position = driver.execute_script('return window.pageYOffset;')\n",
    "scrolling = True\n",
    "\n",
    "while scrolling:\n",
    "    page_cards = driver.find_elements(by=By.XPATH, value='//article[@data-testid=\"tweet\"]')\n",
    "    for card in page_cards[-15:]:\n",
    "        tweet = getTweetData(card)\n",
    "        if tweet:\n",
    "            tweet_id = ''.join(tweet)\n",
    "            if tweet_id not in tweet_ids:\n",
    "                tweet_ids.add(tweet_id)\n",
    "                data.append(tweet)\n",
    "                \n",
    "                \n",
    "                \n",
    "    scroll_attempt = 0\n",
    "    while True:\n",
    "        # scroll down page\n",
    "        driver.execute_script('window.scrollTo(0, document.body.scrollHeight);')   \n",
    "        sleep(3)\n",
    "        current_position = driver.execute_script('return window.pageYOffset;')\n",
    "        if last_position == current_position:\n",
    "            scroll_attempt += 1\n",
    "            \n",
    "            # end scrolling\n",
    "            if scroll_attempt >= 3:\n",
    "                scrolling = False\n",
    "                break\n",
    "            else:\n",
    "                sleep(3)\n",
    "        else:\n",
    "            last_position = current_position\n",
    "            break\n",
    "driver.close()\n",
    "        "
   ]
  },
  {
   "cell_type": "code",
   "execution_count": 2,
   "id": "3c497cb4-bfda-411f-b37f-c5935b0c850c",
   "metadata": {},
   "outputs": [],
   "source": [
    "# saving data\n",
    "with open('tweet_data.csv', 'w', newline='', encoding='utf-8') as f:\n",
    "    header = ['UserName', 'Handle', 'Timestamp', 'Comments', 'Likes', 'Retweets', 'Text']\n",
    "    writer = csv.writer(f)\n",
    "    writer.writerow(header)\n",
    "    writer.writerows(data)"
   ]
  },
  {
   "cell_type": "code",
   "execution_count": null,
   "id": "36a398e5-18f7-4928-a8ac-363ae90ccedf",
   "metadata": {},
   "outputs": [],
   "source": []
  }
 ],
 "metadata": {
  "kernelspec": {
   "display_name": "Python 3 (ipykernel)",
   "language": "python",
   "name": "python3"
  },
  "language_info": {
   "codemirror_mode": {
    "name": "ipython",
    "version": 3
   },
   "file_extension": ".py",
   "mimetype": "text/x-python",
   "name": "python",
   "nbconvert_exporter": "python",
   "pygments_lexer": "ipython3",
   "version": "3.10.3"
  }
 },
 "nbformat": 4,
 "nbformat_minor": 5
}
