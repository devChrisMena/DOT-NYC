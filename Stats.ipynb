{
 "cells": [
  {
   "cell_type": "code",
   "execution_count": 9,
   "metadata": {},
   "outputs": [],
   "source": [
    "from tensorflow.keras.models import load_model\n",
    "import wget\n",
    "import re\n",
    "import tarfile"
   ]
  },
  {
   "cell_type": "code",
   "execution_count": 3,
   "metadata": {},
   "outputs": [],
   "source": [
    "def downloadFile():\n",
    "    url = 'http://ai.stanford.edu/~amaas/data/sentiment/aclImdb_v1.tar.gz'\n",
    "    file_get = wget.download(url)"
   ]
  },
  {
   "cell_type": "code",
   "execution_count": 4,
   "metadata": {},
   "outputs": [],
   "source": [
    "def extractFile():\n",
    "    file_tar = tarfile.open('aclImdb_v1.tar.gz')\n",
    "    file_tar.extractall()"
   ]
  },
  {
   "cell_type": "code",
   "execution_count": 5,
   "metadata": {},
   "outputs": [
    {
     "ename": "FileNotFoundError",
     "evalue": "[Errno 2] No such file or directory: 'aclImdb/imdb.vocab'",
     "output_type": "error",
     "traceback": [
      "\u001b[1;31m---------------------------------------------------------------------------\u001b[0m",
      "\u001b[1;31mFileNotFoundError\u001b[0m                         Traceback (most recent call last)",
      "\u001b[1;32mc:\\Users\\chris\\OneDrive\\Documents\\DOT-Local\\DOT-NYC\\Stats.ipynb Cell 4'\u001b[0m in \u001b[0;36m<cell line: 2>\u001b[1;34m()\u001b[0m\n\u001b[0;32m      <a href='vscode-notebook-cell:/c%3A/Users/chris/OneDrive/Documents/DOT-Local/DOT-NYC/Stats.ipynb#ch0000003?line=0'>1</a>\u001b[0m \u001b[39m# Vocabulary: All words used, starting by the most frequent\u001b[39;00m\n\u001b[1;32m----> <a href='vscode-notebook-cell:/c%3A/Users/chris/OneDrive/Documents/DOT-Local/DOT-NYC/Stats.ipynb#ch0000003?line=1'>2</a>\u001b[0m \u001b[39mwith\u001b[39;00m \u001b[39mopen\u001b[39;49m(\u001b[39m'\u001b[39;49m\u001b[39maclImdb/imdb.vocab\u001b[39;49m\u001b[39m'\u001b[39;49m, encoding\u001b[39m=\u001b[39;49m\u001b[39m\"\u001b[39;49m\u001b[39mUTF-8\u001b[39;49m\u001b[39m\"\u001b[39;49m) \u001b[39mas\u001b[39;00m f:\n\u001b[0;32m      <a href='vscode-notebook-cell:/c%3A/Users/chris/OneDrive/Documents/DOT-Local/DOT-NYC/Stats.ipynb#ch0000003?line=2'>3</a>\u001b[0m     vocab \u001b[39m=\u001b[39m [word\u001b[39m.\u001b[39mrstrip() \u001b[39mfor\u001b[39;00m word \u001b[39min\u001b[39;00m f]\n\u001b[0;32m      <a href='vscode-notebook-cell:/c%3A/Users/chris/OneDrive/Documents/DOT-Local/DOT-NYC/Stats.ipynb#ch0000003?line=3'>4</a>\u001b[0m     \u001b[39m# Keep only most frequent 5000 words rather than all 90000\u001b[39;00m\n\u001b[0;32m      <a href='vscode-notebook-cell:/c%3A/Users/chris/OneDrive/Documents/DOT-Local/DOT-NYC/Stats.ipynb#ch0000003?line=4'>5</a>\u001b[0m     \u001b[39m# Just saving memory - the long tail occurs too few times\u001b[39;00m\n\u001b[0;32m      <a href='vscode-notebook-cell:/c%3A/Users/chris/OneDrive/Documents/DOT-Local/DOT-NYC/Stats.ipynb#ch0000003?line=5'>6</a>\u001b[0m     \u001b[39m# for the model to learn anything anyway\u001b[39;00m\n",
      "\u001b[1;31mFileNotFoundError\u001b[0m: [Errno 2] No such file or directory: 'aclImdb/imdb.vocab'"
     ]
    }
   ],
   "source": [
    "# Vocabulary: All words used, starting by the most frequent\n",
    "with open('aclImdb/imdb.vocab', encoding=\"UTF-8\") as f:\n",
    "    vocab = [word.rstrip() for word in f]\n",
    "    # Keep only most frequent 5000 words rather than all 90000\n",
    "    # Just saving memory - the long tail occurs too few times\n",
    "    # for the model to learn anything anyway\n",
    "    vocab = vocab[:5000]\n",
    "    print('%d words in vocabulary' % (len(vocab),))"
   ]
  },
  {
   "cell_type": "code",
   "execution_count": null,
   "metadata": {},
   "outputs": [],
   "source": [
    "def text_tokens(text):\n",
    "    text = text.lower()\n",
    "    text = re.sub(\"\\\\s\", \" \", text)\n",
    "    text = re.sub(\"[^a-zA-Z' ]\", \"\", text)\n",
    "    tokens = text.split(' ')\n",
    "    return tokens"
   ]
  },
  {
   "cell_type": "code",
   "execution_count": null,
   "metadata": {},
   "outputs": [],
   "source": [
    "def bow_onehot_vector(tokens):\n",
    "    vector = [0] * len(vocab)\n",
    "    for t in tokens:\n",
    "        try:\n",
    "            vector[vocab.index(t)] = 1\n",
    "        except:\n",
    "            pass  # ignore missing words\n",
    "    return vector"
   ]
  },
  {
   "cell_type": "code",
   "execution_count": 7,
   "metadata": {},
   "outputs": [],
   "source": [
    "downloadFile()"
   ]
  },
  {
   "cell_type": "code",
   "execution_count": 10,
   "metadata": {},
   "outputs": [],
   "source": [
    "extractFile()"
   ]
  },
  {
   "cell_type": "code",
   "execution_count": null,
   "metadata": {},
   "outputs": [],
   "source": [
    "sentiment = load_model('saved_model/model.h5')"
   ]
  }
 ],
 "metadata": {
  "interpreter": {
   "hash": "edf259275ad4a72d4dd5b452264ad5fb2b635233dff2a31edc6ebc740e55e21b"
  },
  "kernelspec": {
   "display_name": "Python 3.10.4 64-bit",
   "language": "python",
   "name": "python3"
  },
  "language_info": {
   "codemirror_mode": {
    "name": "ipython",
    "version": 3
   },
   "file_extension": ".py",
   "mimetype": "text/x-python",
   "name": "python",
   "nbconvert_exporter": "python",
   "pygments_lexer": "ipython3",
   "version": "3.10.4"
  },
  "orig_nbformat": 4
 },
 "nbformat": 4,
 "nbformat_minor": 2
}
