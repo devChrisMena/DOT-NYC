{
 "cells": [
  {
   "cell_type": "code",
   "execution_count": 1,
   "metadata": {},
   "outputs": [],
   "source": [
    "import tensorflow\n",
    "import re\n",
    "import pandas as pd\n",
    "import csv\n",
    "import os, sys\n",
    "from tensorflow.keras.models import load_model"
   ]
  },
  {
   "cell_type": "code",
   "execution_count": 15,
   "metadata": {},
   "outputs": [
    {
     "ename": "UnicodeDecodeError",
     "evalue": "'charmap' codec can't decode byte 0x8d in position 5083: character maps to <undefined>",
     "output_type": "error",
     "traceback": [
      "\u001b[1;31m---------------------------------------------------------------------------\u001b[0m",
      "\u001b[1;31mUnicodeDecodeError\u001b[0m                        Traceback (most recent call last)",
      "\u001b[1;32mc:\\Users\\Christopher Mena\\iCloudDrive\\Documents\\DOT Internship\\Development\\test.ipynb Cell 2'\u001b[0m in \u001b[0;36m<cell line: 2>\u001b[1;34m()\u001b[0m\n\u001b[0;32m      <a href='vscode-notebook-cell:/c%3A/Users/Christopher%20Mena/iCloudDrive/Documents/DOT%20Internship/Development/test.ipynb#ch0000002?line=0'>1</a>\u001b[0m \u001b[39m# Vocabulary: All words used, starting by the most frequent\u001b[39;00m\n\u001b[0;32m      <a href='vscode-notebook-cell:/c%3A/Users/Christopher%20Mena/iCloudDrive/Documents/DOT%20Internship/Development/test.ipynb#ch0000002?line=1'>2</a>\u001b[0m \u001b[39mwith\u001b[39;00m \u001b[39mopen\u001b[39m(os\u001b[39m.\u001b[39mpath\u001b[39m.\u001b[39mjoin(sys\u001b[39m.\u001b[39mpath[\u001b[39m0\u001b[39m], \u001b[39m'\u001b[39m\u001b[39maclImdb_v1/aclImdb\u001b[39m\u001b[39m\\\u001b[39m\u001b[39mimdb.vocab\u001b[39m\u001b[39m'\u001b[39m)) \u001b[39mas\u001b[39;00m f:\n\u001b[1;32m----> <a href='vscode-notebook-cell:/c%3A/Users/Christopher%20Mena/iCloudDrive/Documents/DOT%20Internship/Development/test.ipynb#ch0000002?line=2'>3</a>\u001b[0m     vocab \u001b[39m=\u001b[39m [word\u001b[39m.\u001b[39mrstrip() \u001b[39mfor\u001b[39;00m word \u001b[39min\u001b[39;00m f]\n\u001b[0;32m      <a href='vscode-notebook-cell:/c%3A/Users/Christopher%20Mena/iCloudDrive/Documents/DOT%20Internship/Development/test.ipynb#ch0000002?line=3'>4</a>\u001b[0m     \u001b[39m# Keep only most frequent 5000 words rather than all 90000\u001b[39;00m\n\u001b[0;32m      <a href='vscode-notebook-cell:/c%3A/Users/Christopher%20Mena/iCloudDrive/Documents/DOT%20Internship/Development/test.ipynb#ch0000002?line=4'>5</a>\u001b[0m     \u001b[39m# Just saving memory - the long tail occurs too few times\u001b[39;00m\n\u001b[0;32m      <a href='vscode-notebook-cell:/c%3A/Users/Christopher%20Mena/iCloudDrive/Documents/DOT%20Internship/Development/test.ipynb#ch0000002?line=5'>6</a>\u001b[0m     \u001b[39m# for the model to learn anything anyway\u001b[39;00m\n\u001b[0;32m      <a href='vscode-notebook-cell:/c%3A/Users/Christopher%20Mena/iCloudDrive/Documents/DOT%20Internship/Development/test.ipynb#ch0000002?line=6'>7</a>\u001b[0m     vocab \u001b[39m=\u001b[39m vocab[:\u001b[39m5000\u001b[39m]\n",
      "\u001b[1;32mc:\\Users\\Christopher Mena\\iCloudDrive\\Documents\\DOT Internship\\Development\\test.ipynb Cell 2'\u001b[0m in \u001b[0;36m<listcomp>\u001b[1;34m(.0)\u001b[0m\n\u001b[0;32m      <a href='vscode-notebook-cell:/c%3A/Users/Christopher%20Mena/iCloudDrive/Documents/DOT%20Internship/Development/test.ipynb#ch0000002?line=0'>1</a>\u001b[0m \u001b[39m# Vocabulary: All words used, starting by the most frequent\u001b[39;00m\n\u001b[0;32m      <a href='vscode-notebook-cell:/c%3A/Users/Christopher%20Mena/iCloudDrive/Documents/DOT%20Internship/Development/test.ipynb#ch0000002?line=1'>2</a>\u001b[0m \u001b[39mwith\u001b[39;00m \u001b[39mopen\u001b[39m(os\u001b[39m.\u001b[39mpath\u001b[39m.\u001b[39mjoin(sys\u001b[39m.\u001b[39mpath[\u001b[39m0\u001b[39m], \u001b[39m'\u001b[39m\u001b[39maclImdb_v1/aclImdb\u001b[39m\u001b[39m\\\u001b[39m\u001b[39mimdb.vocab\u001b[39m\u001b[39m'\u001b[39m)) \u001b[39mas\u001b[39;00m f:\n\u001b[1;32m----> <a href='vscode-notebook-cell:/c%3A/Users/Christopher%20Mena/iCloudDrive/Documents/DOT%20Internship/Development/test.ipynb#ch0000002?line=2'>3</a>\u001b[0m     vocab \u001b[39m=\u001b[39m [word\u001b[39m.\u001b[39mrstrip() \u001b[39mfor\u001b[39;00m word \u001b[39min\u001b[39;00m f]\n\u001b[0;32m      <a href='vscode-notebook-cell:/c%3A/Users/Christopher%20Mena/iCloudDrive/Documents/DOT%20Internship/Development/test.ipynb#ch0000002?line=3'>4</a>\u001b[0m     \u001b[39m# Keep only most frequent 5000 words rather than all 90000\u001b[39;00m\n\u001b[0;32m      <a href='vscode-notebook-cell:/c%3A/Users/Christopher%20Mena/iCloudDrive/Documents/DOT%20Internship/Development/test.ipynb#ch0000002?line=4'>5</a>\u001b[0m     \u001b[39m# Just saving memory - the long tail occurs too few times\u001b[39;00m\n\u001b[0;32m      <a href='vscode-notebook-cell:/c%3A/Users/Christopher%20Mena/iCloudDrive/Documents/DOT%20Internship/Development/test.ipynb#ch0000002?line=5'>6</a>\u001b[0m     \u001b[39m# for the model to learn anything anyway\u001b[39;00m\n\u001b[0;32m      <a href='vscode-notebook-cell:/c%3A/Users/Christopher%20Mena/iCloudDrive/Documents/DOT%20Internship/Development/test.ipynb#ch0000002?line=6'>7</a>\u001b[0m     vocab \u001b[39m=\u001b[39m vocab[:\u001b[39m5000\u001b[39m]\n",
      "File \u001b[1;32m~\\AppData\\Local\\Programs\\Python\\Python310\\lib\\encodings\\cp1252.py:23\u001b[0m, in \u001b[0;36mIncrementalDecoder.decode\u001b[1;34m(self, input, final)\u001b[0m\n\u001b[0;32m     <a href='file:///c%3A/Users/Christopher%20Mena/AppData/Local/Programs/Python/Python310/lib/encodings/cp1252.py?line=21'>22</a>\u001b[0m \u001b[39mdef\u001b[39;00m \u001b[39mdecode\u001b[39m(\u001b[39mself\u001b[39m, \u001b[39minput\u001b[39m, final\u001b[39m=\u001b[39m\u001b[39mFalse\u001b[39;00m):\n\u001b[1;32m---> <a href='file:///c%3A/Users/Christopher%20Mena/AppData/Local/Programs/Python/Python310/lib/encodings/cp1252.py?line=22'>23</a>\u001b[0m     \u001b[39mreturn\u001b[39;00m codecs\u001b[39m.\u001b[39;49mcharmap_decode(\u001b[39minput\u001b[39;49m,\u001b[39mself\u001b[39;49m\u001b[39m.\u001b[39;49merrors,decoding_table)[\u001b[39m0\u001b[39m]\n",
      "\u001b[1;31mUnicodeDecodeError\u001b[0m: 'charmap' codec can't decode byte 0x8d in position 5083: character maps to <undefined>"
     ]
    }
   ],
   "source": [
    "# Vocabulary: All words used, starting by the most frequent\n",
    "with open(os.path.join(sys.path[0], 'aclImdb_v1/aclImdb\\imdb.vocab')) as f:\n",
    "    vocab = [word.rstrip() for word in f]\n",
    "    # Keep only most frequent 5000 words rather than all 90000\n",
    "    # Just saving memory - the long tail occurs too few times\n",
    "    # for the model to learn anything anyway\n",
    "    vocab = vocab[:5000]\n",
    "    print('%d words in vocabulary' % (len(vocab),))\n",
    "\n"
   ]
  }
 ],
 "metadata": {
  "interpreter": {
   "hash": "5ce4424721d493f58282f839f878658361cd65b23e0b9652bae3931bb3f42843"
  },
  "kernelspec": {
   "display_name": "Python 3.10.3 64-bit",
   "language": "python",
   "name": "python3"
  },
  "language_info": {
   "codemirror_mode": {
    "name": "ipython",
    "version": 3
   },
   "file_extension": ".py",
   "mimetype": "text/x-python",
   "name": "python",
   "nbconvert_exporter": "python",
   "pygments_lexer": "ipython3",
   "version": "3.10.3"
  },
  "orig_nbformat": 4
 },
 "nbformat": 4,
 "nbformat_minor": 2
}
